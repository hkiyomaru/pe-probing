{
 "cells": [
  {
   "cell_type": "markdown",
   "id": "f384f321-c8f9-41f6-b7e6-2545714801ea",
   "metadata": {},
   "source": [
    "# Dot Product\n",
    "\n",
    "This notebook visualizes the dot products of position embeddings."
   ]
  },
  {
   "cell_type": "code",
   "execution_count": null,
   "id": "8d59c568-be82-4fcd-bc9e-51f4c85abdf0",
   "metadata": {},
   "outputs": [],
   "source": [
    "import numpy as np\n",
    "import plotly.express as px\n",
    "\n",
    "\n",
    "def visualize_dot_products(embeddings: np.ndarray) -> None:\n",
    "    dots = np.dot(embeddings, embeddings.T)\n",
    "    return px.imshow(dots, width=512, height=512)"
   ]
  },
  {
   "cell_type": "markdown",
   "id": "c689b1f7-e544-4da6-ba9c-5b16781b410b",
   "metadata": {},
   "source": [
    "### BERT-base-uncased"
   ]
  },
  {
   "cell_type": "code",
   "execution_count": null,
   "id": "b6fa329a-e7fa-47aa-a2df-25a49038df7b",
   "metadata": {},
   "outputs": [],
   "source": [
    "from transformers import BertModel\n",
    "\n",
    "\n",
    "model = BertModel.from_pretrained(\"bert-base-uncased\")\n",
    "position_embeddings = model.embeddings.position_embeddings.weight.detach().numpy()\n",
    "visualize_dot_products(position_embeddings)"
   ]
  },
  {
   "cell_type": "markdown",
   "id": "0ed4ecaa-0f6f-4578-9b8f-66de677a2117",
   "metadata": {},
   "source": [
    "### RoBERTa-base"
   ]
  },
  {
   "cell_type": "code",
   "execution_count": null,
   "id": "0b6a7d6d-35af-4e73-94c0-f8f6dac9e00c",
   "metadata": {},
   "outputs": [],
   "source": [
    "from transformers import RobertaModel\n",
    "\n",
    "\n",
    "model = RobertaModel.from_pretrained(\"roberta-base\")\n",
    "position_embeddings = model.embeddings.position_embeddings.weight.detach().numpy()\n",
    "visualize_dot_products(position_embeddings)"
   ]
  },
  {
   "cell_type": "markdown",
   "id": "041ea73f-2926-4ea3-963d-1adcad748a58",
   "metadata": {},
   "source": [
    "### GPT-2"
   ]
  },
  {
   "cell_type": "code",
   "execution_count": null,
   "id": "b3cf2236-737b-4f5d-b077-d7a49e3766d6",
   "metadata": {},
   "outputs": [],
   "source": [
    "from transformers import GPT2Model\n",
    "\n",
    "\n",
    "model = GPT2Model.from_pretrained(\"gpt2\")\n",
    "position_embeddings = model.wpe.weight.detach().numpy()\n",
    "visualize_dot_products(position_embeddings)"
   ]
  },
  {
   "cell_type": "markdown",
   "id": "92a2bff4-1b2c-4a2f-8d50-6af7e2037a23",
   "metadata": {},
   "source": [
    "### RoBERTa-base (Japanese)"
   ]
  },
  {
   "cell_type": "code",
   "execution_count": null,
   "id": "2f287f3b-ef99-4570-b758-a71c8ecc71a6",
   "metadata": {},
   "outputs": [],
   "source": [
    "from transformers import RobertaModel\n",
    "\n",
    "\n",
    "model = RobertaModel.from_pretrained(\"nlp-waseda/roberta-base-japanese\")\n",
    "position_embeddings = model.embeddings.position_embeddings.weight.detach().numpy()\n",
    "visualize_dot_products(position_embeddings)"
   ]
  }
 ],
 "metadata": {
  "kernelspec": {
   "display_name": "Python 3 (ipykernel)",
   "language": "python",
   "name": "python3"
  },
  "language_info": {
   "codemirror_mode": {
    "name": "ipython",
    "version": 3
   },
   "file_extension": ".py",
   "mimetype": "text/x-python",
   "name": "python",
   "nbconvert_exporter": "python",
   "pygments_lexer": "ipython3",
   "version": "3.8.13"
  }
 },
 "nbformat": 4,
 "nbformat_minor": 5
}
