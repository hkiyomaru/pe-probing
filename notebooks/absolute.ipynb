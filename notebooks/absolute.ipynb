{
 "cells": [
  {
   "cell_type": "markdown",
   "id": "34b9b35c-0ef9-48e1-ad1e-d5168d8bd5ff",
   "metadata": {},
   "source": [
    "# Absolute Position Regression\n",
    "\n",
    "This notebook performs absolute position regression."
   ]
  },
  {
   "cell_type": "code",
   "execution_count": null,
   "id": "efd0fc84-494d-4a0b-bde8-cf343538c657",
   "metadata": {},
   "outputs": [],
   "source": [
    "import numpy as np\n",
    "from sklearn.linear_model import LinearRegression\n",
    "from sklearn.model_selection import cross_val_score\n",
    "\n",
    "\n",
    "def mean_absolute_error(model: LinearRegression, x: np.ndarray, y: np.ndarray) -> float:\n",
    "    return (np.abs((np.round(model.predict(x)) - y))).mean()\n",
    "\n",
    "\n",
    "def get_absolute_position_regression_score(embeddings: np.ndarray) -> float:\n",
    "    n, _ = embeddings.shape\n",
    "    x = embeddings\n",
    "    y = np.random.permutation(n)\n",
    "    x = x[y]\n",
    "    model = LinearRegression()\n",
    "    return cross_val_score(model, x, y, cv=5, scoring=mean_absolute_error).mean()"
   ]
  },
  {
   "cell_type": "markdown",
   "id": "e2382ac5-a945-4aea-8c16-80b3d737e872",
   "metadata": {},
   "source": [
    "### BERT-base-uncased"
   ]
  },
  {
   "cell_type": "code",
   "execution_count": null,
   "id": "4af50e9f-534d-4b24-9bde-74f213c593b0",
   "metadata": {},
   "outputs": [],
   "source": [
    "from transformers import BertModel\n",
    "\n",
    "\n",
    "model = BertModel.from_pretrained(\"bert-base-uncased\")\n",
    "position_embeddings = model.embeddings.position_embeddings.weight.detach().numpy()\n",
    "get_absolute_position_regression_score(position_embeddings)"
   ]
  },
  {
   "cell_type": "markdown",
   "id": "525b23e8-d927-45eb-b41e-f532c25c85f8",
   "metadata": {},
   "source": [
    "### RoBERTa-base"
   ]
  },
  {
   "cell_type": "code",
   "execution_count": null,
   "id": "9f05c352-0be2-4a75-a7e0-720df275f65a",
   "metadata": {},
   "outputs": [],
   "source": [
    "from transformers import RobertaModel\n",
    "\n",
    "\n",
    "model = RobertaModel.from_pretrained(\"roberta-base\")\n",
    "position_embeddings = model.embeddings.position_embeddings.weight.detach().numpy()\n",
    "get_absolute_position_regression_score(position_embeddings)"
   ]
  },
  {
   "cell_type": "markdown",
   "id": "1e013635-fdc0-481c-8a35-da7418e11faf",
   "metadata": {},
   "source": [
    "### GPT-2"
   ]
  },
  {
   "cell_type": "code",
   "execution_count": null,
   "id": "f4bfa462-5b75-448a-bd38-143f61018513",
   "metadata": {},
   "outputs": [],
   "source": [
    "from transformers import GPT2Model\n",
    "\n",
    "\n",
    "model = GPT2Model.from_pretrained(\"gpt2\")\n",
    "position_embeddings = model.wpe.weight.detach().numpy()\n",
    "get_absolute_position_regression_score(position_embeddings)"
   ]
  },
  {
   "cell_type": "markdown",
   "id": "7efe12df-d841-418c-81e3-066b0b2bf0b0",
   "metadata": {},
   "source": [
    "### RoBERTa-base (Japanese)"
   ]
  },
  {
   "cell_type": "code",
   "execution_count": null,
   "id": "0362f020-2893-4769-90bc-aea6f4a4e01c",
   "metadata": {},
   "outputs": [],
   "source": [
    "from transformers import RobertaModel\n",
    "\n",
    "\n",
    "model = RobertaModel.from_pretrained(\"nlp-waseda/roberta-base-japanese\")\n",
    "position_embeddings = model.embeddings.position_embeddings.weight.detach().numpy()\n",
    "get_absolute_position_regression_score(position_embeddings)"
   ]
  }
 ],
 "metadata": {
  "kernelspec": {
   "display_name": "Python 3 (ipykernel)",
   "language": "python",
   "name": "python3"
  },
  "language_info": {
   "codemirror_mode": {
    "name": "ipython",
    "version": 3
   },
   "file_extension": ".py",
   "mimetype": "text/x-python",
   "name": "python",
   "nbconvert_exporter": "python",
   "pygments_lexer": "ipython3",
   "version": "3.8.13"
  }
 },
 "nbformat": 4,
 "nbformat_minor": 5
}
